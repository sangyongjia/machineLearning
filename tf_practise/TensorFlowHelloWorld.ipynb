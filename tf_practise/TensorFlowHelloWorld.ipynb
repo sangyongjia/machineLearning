{
 "cells": [
  {
   "cell_type": "code",
   "execution_count": 2,
   "metadata": {},
   "outputs": [
    {
     "name": "stderr",
     "output_type": "stream",
     "text": [
      "/Users/sangyongjia/anaconda3/envs/tf1.x/lib/python3.7/site-packages/tensorflow/python/framework/dtypes.py:526: FutureWarning: Passing (type, 1) or '1type' as a synonym of type is deprecated; in a future version of numpy, it will be understood as (type, (1,)) / '(1,)type'.\n",
      "  _np_qint8 = np.dtype([(\"qint8\", np.int8, 1)])\n",
      "/Users/sangyongjia/anaconda3/envs/tf1.x/lib/python3.7/site-packages/tensorflow/python/framework/dtypes.py:527: FutureWarning: Passing (type, 1) or '1type' as a synonym of type is deprecated; in a future version of numpy, it will be understood as (type, (1,)) / '(1,)type'.\n",
      "  _np_quint8 = np.dtype([(\"quint8\", np.uint8, 1)])\n",
      "/Users/sangyongjia/anaconda3/envs/tf1.x/lib/python3.7/site-packages/tensorflow/python/framework/dtypes.py:528: FutureWarning: Passing (type, 1) or '1type' as a synonym of type is deprecated; in a future version of numpy, it will be understood as (type, (1,)) / '(1,)type'.\n",
      "  _np_qint16 = np.dtype([(\"qint16\", np.int16, 1)])\n",
      "/Users/sangyongjia/anaconda3/envs/tf1.x/lib/python3.7/site-packages/tensorflow/python/framework/dtypes.py:529: FutureWarning: Passing (type, 1) or '1type' as a synonym of type is deprecated; in a future version of numpy, it will be understood as (type, (1,)) / '(1,)type'.\n",
      "  _np_quint16 = np.dtype([(\"quint16\", np.uint16, 1)])\n",
      "/Users/sangyongjia/anaconda3/envs/tf1.x/lib/python3.7/site-packages/tensorflow/python/framework/dtypes.py:530: FutureWarning: Passing (type, 1) or '1type' as a synonym of type is deprecated; in a future version of numpy, it will be understood as (type, (1,)) / '(1,)type'.\n",
      "  _np_qint32 = np.dtype([(\"qint32\", np.int32, 1)])\n",
      "/Users/sangyongjia/anaconda3/envs/tf1.x/lib/python3.7/site-packages/tensorflow/python/framework/dtypes.py:535: FutureWarning: Passing (type, 1) or '1type' as a synonym of type is deprecated; in a future version of numpy, it will be understood as (type, (1,)) / '(1,)type'.\n",
      "  np_resource = np.dtype([(\"resource\", np.ubyte, 1)])\n"
     ]
    },
    {
     "name": "stdout",
     "output_type": "stream",
     "text": [
      "b'Hello, world!'\n"
     ]
    }
   ],
   "source": [
    "import tensorflow as tf\n",
    "hello = tf.constant(\"Hello, world!\")\n",
    "sess = tf.Session()\n",
    "print(sess.run(hello))"
   ]
  },
  {
   "cell_type": "code",
   "execution_count": 2,
   "metadata": {},
   "outputs": [
    {
     "name": "stdout",
     "output_type": "stream",
     "text": [
      "Tensor(\"Add:0\", shape=(), dtype=float32)\n"
     ]
    }
   ],
   "source": [
    "node1 = tf.constant(3.0, tf.float32, name=\"node1\")\n",
    "node2 = tf.constant(4.0, tf.float32, name=\"node2\")\n",
    "node3 = tf.add(node1,node2)\n",
    "print(node3)"
   ]
  },
  {
   "cell_type": "code",
   "execution_count": 7,
   "metadata": {},
   "outputs": [
    {
     "name": "stdout",
     "output_type": "stream",
     "text": [
      "run sess.run(node1) result: 3.0\n"
     ]
    }
   ],
   "source": [
    "sess = tf.Session()\n",
    "print(\"run sess.run(node1) result:\", sess.run(node1))"
   ]
  },
  {
   "cell_type": "code",
   "execution_count": 8,
   "metadata": {},
   "outputs": [
    {
     "name": "stdout",
     "output_type": "stream",
     "text": [
      "run sess.run(node1) result: 7.0\n"
     ]
    }
   ],
   "source": [
    "print(\"run sess.run(node1) result:\", sess.run(node3))"
   ]
  },
  {
   "cell_type": "code",
   "execution_count": 20,
   "metadata": {},
   "outputs": [],
   "source": [
    "sess.close()"
   ]
  },
  {
   "cell_type": "code",
   "execution_count": null,
   "metadata": {},
   "outputs": [],
   "source": [
    "#不带小数点的默认是int32\n",
    "#带小数点的默认是float32\n",
    "#所有的数据类型为：\n",
    "#实数 tf.float32  tf.float64    整数：tf.int8. tf.int16. tf.int32 tf.int64 tf.uint8 布尔：tf.bool  复数：tf.complex64 tf.complex128"
   ]
  },
  {
   "cell_type": "code",
   "execution_count": 12,
   "metadata": {},
   "outputs": [
    {
     "name": "stdout",
     "output_type": "stream",
     "text": [
      "Tensor(\"node1_3:0\", shape=(3, 2, 3), dtype=int32)\n"
     ]
    }
   ],
   "source": [
    "tensor1 = tf.constant([[[1,2,2],[2,2,3]],\n",
    "                               [[3,5,6],[5,4,3]],\n",
    "                               [[11,12,7],[1,3,14]]],tf.int32,name='node1')\n",
    "print(tensor1)"
   ]
  },
  {
   "cell_type": "code",
   "execution_count": null,
   "metadata": {},
   "outputs": [],
   "source": [
    "# get_shape()"
   ]
  },
  {
   "cell_type": "code",
   "execution_count": 14,
   "metadata": {},
   "outputs": [],
   "source": [
    "scalar = tf.constant(100)\n",
    "vector = tf.constant([1,2,3,4,5])\n",
    "matrix = tf.constant([[1,2,3],[4,5,6]])\n",
    "cube_matrix = tf.constant([[[1],[2],[3]],[[4],[5],[6]]])"
   ]
  },
  {
   "cell_type": "code",
   "execution_count": 15,
   "metadata": {},
   "outputs": [
    {
     "name": "stdout",
     "output_type": "stream",
     "text": [
      "()\n",
      "(5,)\n",
      "(2, 3)\n",
      "(2, 3, 1)\n"
     ]
    }
   ],
   "source": [
    "print(scalar.get_shape())\n",
    "print(vector.get_shape())\n",
    "print(matrix.get_shape())\n",
    "print(cube_matrix.get_shape())"
   ]
  },
  {
   "cell_type": "code",
   "execution_count": null,
   "metadata": {},
   "outputs": [],
   "source": [
    "#"
   ]
  },
  {
   "cell_type": "code",
   "execution_count": 19,
   "metadata": {},
   "outputs": [],
   "source": [
    "tf.reset_default_graph()\n",
    "a = tf.Variable(1, name='a')\n",
    "b = tf.add(a,1,name='b')\n",
    "c = tf.multiply(b,4,name='c')\n",
    "d = tf.subtract(c,b,name='d')\n",
    "\n",
    "logdir = './log'\n",
    "#生成一个写日志的writer，并将当前的TensorFlow计算图写入日志\n",
    "writer = tf.summary.FileWriter(logdir,tf.get_default_graph())\n",
    "writer.close()"
   ]
  },
  {
   "cell_type": "code",
   "execution_count": null,
   "metadata": {},
   "outputs": [],
   "source": [
    "#所有的资源均被session管理，所以要确保session的关闭"
   ]
  },
  {
   "cell_type": "code",
   "execution_count": 28,
   "metadata": {},
   "outputs": [
    {
     "name": "stdout",
     "output_type": "stream",
     "text": [
      "[1 2 3]\n",
      "7.0\n",
      "7.0\n",
      "7.0\n"
     ]
    }
   ],
   "source": [
    "#manner 1\n",
    "tensor1 = tf.constant([1,2,3])\n",
    "sess = tf.Session()\n",
    "try:\n",
    "    print(sess.run(tensor1))\n",
    "except:\n",
    "    print('Exception')\n",
    "finally:\n",
    "    sess.close()\n",
    "#manner2\n",
    "node1 = tf.constant(3, tf.float32, name = 'node1')\n",
    "node2 = tf.constant(4,tf.float32, name = 'node2')\n",
    "node3 = tf.add(node1,node2,name = 'node3')\n",
    "with tf.Session() as sess:\n",
    "    print(sess.run(node3))\n",
    "#manner3\n",
    "sess = tf.Session()\n",
    "with sess.as_default():\n",
    "    print(node3.eval())\n",
    "#manner4\n",
    "sess = tf.InteractiveSession()\n",
    "print(node3.eval())\n",
    "sess.close()"
   ]
  },
  {
   "cell_type": "code",
   "execution_count": 29,
   "metadata": {},
   "outputs": [],
   "source": [
    "#变量 Variable"
   ]
  },
  {
   "cell_type": "code",
   "execution_count": 30,
   "metadata": {},
   "outputs": [
    {
     "name": "stdout",
     "output_type": "stream",
     "text": [
      "7.0\n"
     ]
    }
   ],
   "source": [
    "node1 = tf.Variable(3.0, tf.float32, name='node1')\n",
    "node2 = tf.Variable(4.0, tf.float32, name='node2')\n",
    "result = tf.add(node1, node2, name='add')\n",
    "with tf.Session() as sess:\n",
    "    init = tf.global_variables_initializer()\n",
    "    sess.run(init)\n",
    "    print(sess.run(result))"
   ]
  },
  {
   "cell_type": "code",
   "execution_count": 3,
   "metadata": {},
   "outputs": [
    {
     "name": "stdout",
     "output_type": "stream",
     "text": [
      "WARNING:tensorflow:From /Users/sangyongjia/anaconda3/envs/tf1.x/lib/python3.7/site-packages/tensorflow/python/framework/op_def_library.py:263: colocate_with (from tensorflow.python.framework.ops) is deprecated and will be removed in a future version.\n",
      "Instructions for updating:\n",
      "Colocations handled automatically by placer.\n",
      "1\n",
      "1\n",
      "2\n",
      "2\n",
      "3\n",
      "3\n",
      "4\n",
      "4\n",
      "5\n",
      "5\n",
      "6\n",
      "6\n",
      "7\n",
      "7\n",
      "8\n",
      "8\n",
      "9\n",
      "9\n",
      "10\n",
      "10\n"
     ]
    }
   ],
   "source": [
    "#变量赋值\n",
    "value = tf.Variable(0, name='value')\n",
    "one = tf.constant(1)\n",
    "new_value = tf.add(value,one)\n",
    "update_value = tf.assign(value, new_value)\n",
    "init = tf.global_variables_initializer()\n",
    "with tf.Session()  as sess:\n",
    "    sess.run(init)\n",
    "    for _ in range(10):\n",
    "        print(sess.run(update_value))\n",
    "        print(sess.run(value))\n",
    "        "
   ]
  },
  {
   "cell_type": "code",
   "execution_count": 32,
   "metadata": {},
   "outputs": [],
   "source": [
    "#如何通过TensorFlow的变量赋值计算:1+2+3+...+10 ?"
   ]
  },
  {
   "cell_type": "code",
   "execution_count": 39,
   "metadata": {},
   "outputs": [
    {
     "name": "stdout",
     "output_type": "stream",
     "text": [
      "1\n",
      "3\n",
      "6\n",
      "10\n",
      "15\n",
      "21\n",
      "28\n",
      "36\n",
      "45\n",
      "55\n"
     ]
    }
   ],
   "source": [
    "tf.reset_default_graph()\n",
    "logdir='./log'\n",
    "\n",
    "value = tf.Variable(0, name='value')\n",
    "one = tf.constant(1,name='one')\n",
    "update_value = tf.add(value,one)\n",
    "\n",
    "a = tf.assign(value, update_value)\n",
    "\n",
    "result = tf.Variable(0,name='result')\n",
    "temp= tf.add(value,result)\n",
    "result = tf.assign(result, temp)\n",
    "init = tf.global_variables_initializer()\n",
    "with tf.Session() as sess:\n",
    "        sess.run(init)\n",
    "        for _ in range(10):\n",
    "            #sess.run(update_value)\n",
    "            #print(sess.run(a))\n",
    "            sess.run(a)\n",
    "            #print(sess.run(result))\n",
    "            print(sess.run(result))\n",
    "writer = tf.summary.FileWriter(logdir,tf.get_default_graph())\n",
    "writer.close()"
   ]
  },
  {
   "cell_type": "code",
   "execution_count": null,
   "metadata": {},
   "outputs": [],
   "source": [
    "#placeholder"
   ]
  },
  {
   "cell_type": "code",
   "execution_count": 38,
   "metadata": {},
   "outputs": [
    {
     "name": "stdout",
     "output_type": "stream",
     "text": [
      "[12.  4. 14.] [ 6.5  0.  -0.5]\n"
     ]
    }
   ],
   "source": [
    "#x = tf.placeholder(tf.float32, [2,3], name='tx')\n",
    "tf.reset_default_graph()\n",
    "logdir = './log'\n",
    "\n",
    "a = tf.placeholder(tf.float32, name='a')\n",
    "b = tf.placeholder(tf.float32,name='b')\n",
    "c = tf.multiply(a,b,name='c')\n",
    "d = tf.subtract(a,b,name='d')\n",
    "\n",
    "init = tf.global_variables_initializer()\n",
    "with tf.Session() as sess:\n",
    "    sess.run(init)\n",
    "    #result = sess.run(c,feed_dict={a:8.0,b:3.5})\n",
    "    rc, rd = sess.run([c,d], feed_dict={a:[8.0,2.0,3.5], b:[1.5,2.0,4.]})\n",
    "    print(rc, rd)\n",
    "writer = tf.summary.FileWriter(logdir, tf.get_default_graph())\n",
    "writer.close()"
   ]
  },
  {
   "cell_type": "code",
   "execution_count": 47,
   "metadata": {},
   "outputs": [
    {
     "name": "stdout",
     "output_type": "stream",
     "text": [
      "7.0\n"
     ]
    }
   ],
   "source": [
    "#注意，Variable是必须需要 init=tf.global_variables_initializer()  and sess.run(init)这两句的。\n",
    "node1=tf.Variable(3.0,tf.float32,name=\"node1\")\n",
    "node2=tf.Variable(4.0,tf.float32,name=\"node2\")\n",
    "node3=tf.add(node1,node2)\n",
    "init = tf.global_variables_initializer()\n",
    "sess=tf.Session()\n",
    "with sess.as_default():\n",
    "    sess.run(init)\n",
    "    print(node3.eval())\n",
    "    #print(sess.run(node3))"
   ]
  },
  {
   "cell_type": "code",
   "execution_count": null,
   "metadata": {},
   "outputs": [],
   "source": [
    "##"
   ]
  }
 ],
 "metadata": {
  "kernelspec": {
   "display_name": "Python [conda env:tf1.x] *",
   "language": "python",
   "name": "conda-env-tf1.x-py"
  },
  "language_info": {
   "codemirror_mode": {
    "name": "ipython",
    "version": 3
   },
   "file_extension": ".py",
   "mimetype": "text/x-python",
   "name": "python",
   "nbconvert_exporter": "python",
   "pygments_lexer": "ipython3",
   "version": "3.7.1"
  }
 },
 "nbformat": 4,
 "nbformat_minor": 2
}
